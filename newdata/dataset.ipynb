{
 "cells": [
  {
   "cell_type": "code",
   "execution_count": 289,
   "metadata": {},
   "outputs": [],
   "source": [
    "# Imports a utilizar \n",
    "import numpy as np\n",
    "import matplotlib as plt\n",
    "import pandas as pd\n",
    "import seaborn as sns\n",
    "import plotly.express as px\n",
    "\n",
    "from quickda.explore_data import *\n",
    "from quickda.clean_data import *\n",
    "from quickda.explore_numeric import *\n",
    "from quickda.explore_categoric import *\n",
    "from quickda.explore_numeric_categoric import *\n",
    "from quickda.explore_time_series import *\n",
    "from sklearn.preprocessing import StandardScaler\n",
    "from sklearn.model_selection import train_test_split"
   ]
  },
  {
   "attachments": {},
   "cell_type": "markdown",
   "metadata": {},
   "source": [
    "### Abrir la data y observar su tipo de variable"
   ]
  },
  {
   "cell_type": "code",
   "execution_count": 290,
   "metadata": {},
   "outputs": [
    {
     "name": "stdout",
     "output_type": "stream",
     "text": [
      "[2009 2010 2011 2012 2013 2014 2015 2016 2017 2018]\n"
     ]
    }
   ],
   "source": [
    "# Crea una lista vacía para guardar los DataFrames\n",
    "dfs = []\n",
    "\n",
    "for year in range(2009, 2019):\n",
    "    filename = f\"data{year}.sav\"\n",
    "    df = pd.read_spss(filename)\n",
    "    dfs.append(df)\n",
    "    df['Year'] = year\n",
    "\n",
    "# Concatena los DataFrames en uno solo\n",
    "merged_df = pd.concat(dfs)\n",
    "\n",
    "# Muestra las primeras 5 filas del DataFrame combinado\n",
    "print(merged_df['Year'].unique())"
   ]
  },
  {
   "cell_type": "code",
   "execution_count": 291,
   "metadata": {},
   "outputs": [
    {
     "name": "stdout",
     "output_type": "stream",
     "text": [
      "Guatemala <class 'str'>\n",
      "Solola <class 'str'>\n",
      "Santa Rosa <class 'str'>\n",
      "Quiche <class 'str'>\n",
      "Izabal <class 'str'>\n",
      "El Progreso <class 'str'>\n",
      "Jutiapa <class 'str'>\n",
      "Chimaltenango <class 'str'>\n",
      "Sacatepequez <class 'str'>\n",
      "Escuintla <class 'str'>\n",
      "Jalapa <class 'str'>\n",
      "Peten <class 'str'>\n",
      "Chiquimula <class 'str'>\n",
      "Quetzaltenango <class 'str'>\n",
      "San Marcos <class 'str'>\n",
      "Baja Verapaz <class 'str'>\n",
      "Alta Verapaz <class 'str'>\n",
      "Zacapa <class 'str'>\n",
      "Suchitepequez <class 'str'>\n",
      "Totonicapan <class 'str'>\n",
      "Retalhuleu <class 'str'>\n",
      "Huehuetenango <class 'str'>\n"
     ]
    }
   ],
   "source": [
    "templistamuni = list(merged_df['Depreg'].unique())\n",
    "for i in templistamuni:\n",
    "    print(i, type(i))"
   ]
  },
  {
   "cell_type": "code",
   "execution_count": 292,
   "metadata": {},
   "outputs": [
    {
     "name": "stdout",
     "output_type": "stream",
     "text": [
      "20746052\n",
      "21352454\n",
      "22047828\n",
      "22928167\n",
      "22853178\n",
      "22785505\n",
      "23094075\n",
      "23032538\n",
      "22518176\n",
      "22612517\n",
      "223970490\n"
     ]
    }
   ],
   "source": [
    "print(merged_df[merged_df['Year'] == 2009].size)\n",
    "print(merged_df[merged_df['Year'] == 2010].size)\n",
    "print(merged_df[merged_df['Year'] == 2011].size)\n",
    "print(merged_df[merged_df['Year'] == 2012].size)\n",
    "print(merged_df[merged_df['Year'] == 2013].size)\n",
    "print(merged_df[merged_df['Year'] == 2014].size)\n",
    "print(merged_df[merged_df['Year'] == 2015].size)\n",
    "print(merged_df[merged_df['Year'] == 2016].size)\n",
    "print(merged_df[merged_df['Year'] == 2017].size)\n",
    "print(merged_df[merged_df['Year'] == 2018].size)\n",
    "print(merged_df.size)"
   ]
  },
  {
   "cell_type": "code",
   "execution_count": 293,
   "metadata": {},
   "outputs": [
    {
     "data": {
      "text/plain": [
       "223970490"
      ]
     },
     "execution_count": 293,
     "metadata": {},
     "output_type": "execute_result"
    }
   ],
   "source": [
    "merged_df.size"
   ]
  },
  {
   "cell_type": "code",
   "execution_count": 294,
   "metadata": {},
   "outputs": [
    {
     "data": {
      "text/plain": [
       "Index(['Depreg', 'mupreg', 'Mesreg', 'Añoreg', 'Depocu', 'Mupocu', 'Areag',\n",
       "       'Libras', 'Onzas', 'Diaocu', 'Mesocu', 'Añoocu', 'Sexo', 'Tipar',\n",
       "       'Edadp', 'Deprep', 'muprep', 'Gretnp', 'Escivp', 'Depnap', 'Mupnap',\n",
       "       'Naciop', 'Ocupap', 'Edadm', 'Deprem', 'Muprem', 'Gretnm', 'Escivm',\n",
       "       'Depnam', 'Mupnam', 'Naciom', 'Ocupam', 'Asisrec', 'Sitioocu', 'Tohite',\n",
       "       'Tohinm', 'Tohivi', 'Year', 'mupnap', 'Escolap', 'muprem', 'grupetma',\n",
       "       'mupnam', 'Escolam', 'Mupreg', 'Muprep', 'Paisrep', 'Paisnacp',\n",
       "       'Paisrem', 'Paisnacm', 'munnam', 'PuebloPP', 'Ciuopad', 'PuebloPM',\n",
       "       'Ciuomad', 'Munpnap', 'ciuomad', 'TipoIns', 'ViaPar'],\n",
       "      dtype='object')"
      ]
     },
     "execution_count": 294,
     "metadata": {},
     "output_type": "execute_result"
    }
   ],
   "source": [
    "merged_df.columns"
   ]
  },
  {
   "cell_type": "code",
   "execution_count": 295,
   "metadata": {},
   "outputs": [
    {
     "data": {
      "text/plain": [
       "Depreg      category\n",
       "mupreg      category\n",
       "Mesreg      category\n",
       "Añoreg       float64\n",
       "Depocu      category\n",
       "Mupocu        object\n",
       "Areag       category\n",
       "Libras        object\n",
       "Onzas         object\n",
       "Diaocu       float64\n",
       "Mesocu      category\n",
       "Añoocu       float64\n",
       "Sexo        category\n",
       "Tipar         object\n",
       "Edadp         object\n",
       "Deprep      category\n",
       "muprep        object\n",
       "Gretnp      category\n",
       "Escivp      category\n",
       "Depnap        object\n",
       "Mupnap        object\n",
       "Naciop        object\n",
       "Ocupap        object\n",
       "Edadm         object\n",
       "Deprem      category\n",
       "Muprem        object\n",
       "Gretnm      category\n",
       "Escivm      category\n",
       "Depnam        object\n",
       "Mupnam        object\n",
       "Naciom        object\n",
       "Ocupam        object\n",
       "Asisrec       object\n",
       "Sitioocu      object\n",
       "Tohite        object\n",
       "Tohinm        object\n",
       "Tohivi        object\n",
       "Year           int64\n",
       "mupnap      category\n",
       "Escolap       object\n",
       "muprem      category\n",
       "grupetma    category\n",
       "mupnam      category\n",
       "Escolam       object\n",
       "Mupreg        object\n",
       "Muprep        object\n",
       "Paisrep       object\n",
       "Paisnacp      object\n",
       "Paisrem       object\n",
       "Paisnacm      object\n",
       "munnam      category\n",
       "PuebloPP      object\n",
       "Ciuopad     category\n",
       "PuebloPM      object\n",
       "Ciuomad     category\n",
       "Munpnap       object\n",
       "ciuomad       object\n",
       "TipoIns     category\n",
       "ViaPar      category\n",
       "dtype: object"
      ]
     },
     "execution_count": 295,
     "metadata": {},
     "output_type": "execute_result"
    }
   ],
   "source": [
    "merged_df.dtypes"
   ]
  },
  {
   "cell_type": "code",
   "execution_count": 296,
   "metadata": {},
   "outputs": [
    {
     "name": "stdout",
     "output_type": "stream",
     "text": [
      "<class 'pandas.core.frame.DataFrame'>\n",
      "Int64Index: 3796110 entries, 0 to 383262\n",
      "Data columns (total 59 columns):\n",
      " #   Column    Dtype   \n",
      "---  ------    -----   \n",
      " 0   Depreg    category\n",
      " 1   mupreg    category\n",
      " 2   Mesreg    category\n",
      " 3   Añoreg    float64 \n",
      " 4   Depocu    category\n",
      " 5   Mupocu    object  \n",
      " 6   Areag     category\n",
      " 7   Libras    object  \n",
      " 8   Onzas     object  \n",
      " 9   Diaocu    float64 \n",
      " 10  Mesocu    category\n",
      " 11  Añoocu    float64 \n",
      " 12  Sexo      category\n",
      " 13  Tipar     object  \n",
      " 14  Edadp     object  \n",
      " 15  Deprep    category\n",
      " 16  muprep    object  \n",
      " 17  Gretnp    category\n",
      " 18  Escivp    category\n",
      " 19  Depnap    object  \n",
      " 20  Mupnap    object  \n",
      " 21  Naciop    object  \n",
      " 22  Ocupap    object  \n",
      " 23  Edadm     object  \n",
      " 24  Deprem    category\n",
      " 25  Muprem    object  \n",
      " 26  Gretnm    category\n",
      " 27  Escivm    category\n",
      " 28  Depnam    object  \n",
      " 29  Mupnam    object  \n",
      " 30  Naciom    object  \n",
      " 31  Ocupam    object  \n",
      " 32  Asisrec   object  \n",
      " 33  Sitioocu  object  \n",
      " 34  Tohite    object  \n",
      " 35  Tohinm    object  \n",
      " 36  Tohivi    object  \n",
      " 37  Year      int64   \n",
      " 38  mupnap    category\n",
      " 39  Escolap   object  \n",
      " 40  muprem    category\n",
      " 41  grupetma  category\n",
      " 42  mupnam    category\n",
      " 43  Escolam   object  \n",
      " 44  Mupreg    object  \n",
      " 45  Muprep    object  \n",
      " 46  Paisrep   object  \n",
      " 47  Paisnacp  object  \n",
      " 48  Paisrem   object  \n",
      " 49  Paisnacm  object  \n",
      " 50  munnam    category\n",
      " 51  PuebloPP  object  \n",
      " 52  Ciuopad   category\n",
      " 53  PuebloPM  object  \n",
      " 54  Ciuomad   category\n",
      " 55  Munpnap   object  \n",
      " 56  ciuomad   object  \n",
      " 57  TipoIns   category\n",
      " 58  ViaPar    category\n",
      "dtypes: category(22), float64(3), int64(1), object(33)\n",
      "memory usage: 1.2+ GB\n"
     ]
    }
   ],
   "source": [
    "merged_df.info()"
   ]
  },
  {
   "cell_type": "code",
   "execution_count": 297,
   "metadata": {},
   "outputs": [
    {
     "name": "stdout",
     "output_type": "stream",
     "text": [
      "-> Columnas con valores numericos \n",
      "  Index(['Añoreg', 'Diaocu', 'Añoocu', 'Year'], dtype='object') \n",
      "\n",
      "-> Columnas con valores categoricos\n",
      "  {'Paisnacm', 'Mesreg', 'Paisnacp', 'Onzas', 'Depnam', 'TipoIns', 'mupnam', 'Naciop', 'Deprem', 'Tohinm', 'mupnap', 'Escolam', 'Tohite', 'PuebloPP', 'Libras', 'Depocu', 'Mupocu', 'Mupnap', 'Naciom', 'muprep', 'Depreg', 'Muprep', 'Depnap', 'Gretnm', 'Mupreg', 'Escolap', 'Escivm', 'Asisrec', 'grupetma', 'Tohivi', 'Escivp', 'Areag', 'Ocupap', 'Mupnam', 'muprem', 'Ocupam', 'Ciuopad', 'Sitioocu', 'Paisrep', 'Muprem', 'Sexo', 'Edadp', 'ViaPar', 'Mesocu', 'mupreg', 'Edadm', 'Deprep', 'Ciuomad', 'munnam', 'Paisrem', 'Tipar', 'PuebloPM', 'ciuomad', 'Munpnap', 'Gretnp'}\n"
     ]
    }
   ],
   "source": [
    "columns = merged_df.columns\n",
    "numeric_data = merged_df._get_numeric_data().columns\n",
    "\n",
    "categorical_data = set(columns) - set(numeric_data)\n",
    "print(\"-> Columnas con valores numericos \\n \",numeric_data ,'\\n')\n",
    "print(\"-> Columnas con valores categoricos\\n \",categorical_data)"
   ]
  },
  {
   "cell_type": "code",
   "execution_count": 298,
   "metadata": {},
   "outputs": [
    {
     "data": {
      "text/plain": [
       "223970490"
      ]
     },
     "execution_count": 298,
     "metadata": {},
     "output_type": "execute_result"
    }
   ],
   "source": [
    "merged_df.size"
   ]
  },
  {
   "attachments": {},
   "cell_type": "markdown",
   "metadata": {},
   "source": [
    "### Limpieza de Variables"
   ]
  },
  {
   "attachments": {},
   "cell_type": "markdown",
   "metadata": {},
   "source": [
    "Se toman las columnas que van a ser utilizadas en el modelo predictivo. Estas son:\n",
    "- Departamento de registro\n",
    "- Municipio de registro\n",
    "- Escolaridad de la madre\n",
    "- Escolaridad del padre\n",
    "- Año de registro"
   ]
  },
  {
   "cell_type": "code",
   "execution_count": 299,
   "metadata": {},
   "outputs": [],
   "source": [
    "columnas_deseadas = ['Depreg', 'Escolam', 'Escolap', 'Year', 'Asisrec', 'Sitioocu']\n",
    "data = merged_df.drop(columns=merged_df.columns.difference(columnas_deseadas))"
   ]
  },
  {
   "cell_type": "code",
   "execution_count": 300,
   "metadata": {},
   "outputs": [
    {
     "name": "stdout",
     "output_type": "stream",
     "text": [
      "Diferencia en el número de filas: 0\n"
     ]
    }
   ],
   "source": [
    "filas_originales = merged_df.shape[0]\n",
    "filas_finales = data.shape[0]\n",
    "\n",
    "# Calcular la diferencia en el número de filas\n",
    "diferencia_filas = filas_originales - filas_finales\n",
    "\n",
    "# Imprimir la diferencia en el número de filas\n",
    "print(\"Diferencia en el número de filas:\", diferencia_filas)"
   ]
  },
  {
   "attachments": {},
   "cell_type": "markdown",
   "metadata": {},
   "source": [
    "Vamos a verificar si la data que estamos tomando contiene valores nulos o NaN."
   ]
  },
  {
   "cell_type": "code",
   "execution_count": 301,
   "metadata": {},
   "outputs": [
    {
     "data": {
      "image/png": "[encoded data removed]",
      "text/plain": [
       "<Figure size 640x480 with 2 Axes>"
      ]
     },
     "metadata": {},
     "output_type": "display_data"
    }
   ],
   "source": [
    "sns.heatmap(data.isna(), cmap='viridis')\n",
    "plt.show()"
   ]
  },
  {
   "attachments": {},
   "cell_type": "markdown",
   "metadata": {},
   "source": [
    "Podemos observar que en nuestro dataset a utilizar contamos con algunos registros faltantes. Estos estan ubicados especificamente en las columnas de escolaridad de la madre y del padre del nacido."
   ]
  },
  {
   "cell_type": "code",
   "execution_count": 302,
   "metadata": {},
   "outputs": [
    {
     "data": {
      "text/plain": [
       "<bound method NDFrame.head of               Depreg    Asisrec     Sitioocu  Year        Escolap  \\\n",
       "0          Guatemala     Medica    Domicilio  2009            NaN   \n",
       "1          Guatemala     Medica    Domicilio  2009            NaN   \n",
       "2          Guatemala     Medica    Domicilio  2009            NaN   \n",
       "3          Guatemala     Medica    Domicilio  2009            NaN   \n",
       "4          Guatemala     Medica    Domicilio  2009            NaN   \n",
       "...              ...        ...          ...   ...            ...   \n",
       "383258        Quiche     Medico  Vía Pública  2018         Básica   \n",
       "383259     Escuintla   Empirico  Vía Pública  2018  Diversificado   \n",
       "383260  Alta Verapaz   Empirico  Vía Pública  2018       Primaria   \n",
       "383261         Peten   Empirico  Vía Pública  2018        Ninguno   \n",
       "383262        Quiche  Comadrona  Vía Pública  2018       Ignorado   \n",
       "\n",
       "              Escolam  \n",
       "0                 NaN  \n",
       "1                 NaN  \n",
       "2                 NaN  \n",
       "3                 NaN  \n",
       "4                 NaN  \n",
       "...               ...  \n",
       "383258  Diversificado  \n",
       "383259  Diversificado  \n",
       "383260        Ninguno  \n",
       "383261  Diversificado  \n",
       "383262       Ignorado  \n",
       "\n",
       "[3796110 rows x 6 columns]>"
      ]
     },
     "execution_count": 302,
     "metadata": {},
     "output_type": "execute_result"
    }
   ],
   "source": [
    "data.head"
   ]
  },
  {
   "cell_type": "code",
   "execution_count": 303,
   "metadata": {},
   "outputs": [
    {
     "data": {
      "text/plain": [
       "<bound method NDFrame.tail of               Depreg    Asisrec     Sitioocu  Year        Escolap  \\\n",
       "0          Guatemala     Medica    Domicilio  2009            NaN   \n",
       "1          Guatemala     Medica    Domicilio  2009            NaN   \n",
       "2          Guatemala     Medica    Domicilio  2009            NaN   \n",
       "3          Guatemala     Medica    Domicilio  2009            NaN   \n",
       "4          Guatemala     Medica    Domicilio  2009            NaN   \n",
       "...              ...        ...          ...   ...            ...   \n",
       "383258        Quiche     Medico  Vía Pública  2018         Básica   \n",
       "383259     Escuintla   Empirico  Vía Pública  2018  Diversificado   \n",
       "383260  Alta Verapaz   Empirico  Vía Pública  2018       Primaria   \n",
       "383261         Peten   Empirico  Vía Pública  2018        Ninguno   \n",
       "383262        Quiche  Comadrona  Vía Pública  2018       Ignorado   \n",
       "\n",
       "              Escolam  \n",
       "0                 NaN  \n",
       "1                 NaN  \n",
       "2                 NaN  \n",
       "3                 NaN  \n",
       "4                 NaN  \n",
       "...               ...  \n",
       "383258  Diversificado  \n",
       "383259  Diversificado  \n",
       "383260        Ninguno  \n",
       "383261  Diversificado  \n",
       "383262       Ignorado  \n",
       "\n",
       "[3796110 rows x 6 columns]>"
      ]
     },
     "execution_count": 303,
     "metadata": {},
     "output_type": "execute_result"
    }
   ],
   "source": [
    "data.tail"
   ]
  },
  {
   "cell_type": "code",
   "execution_count": 304,
   "metadata": {},
   "outputs": [
    {
     "data": {
      "text/plain": [
       "Index(['Depreg', 'Asisrec', 'Sitioocu', 'Year', 'Escolap', 'Escolam'], dtype='object')"
      ]
     },
     "execution_count": 304,
     "metadata": {},
     "output_type": "execute_result"
    }
   ],
   "source": [
    "data.columns"
   ]
  },
  {
   "cell_type": "code",
   "execution_count": 305,
   "metadata": {},
   "outputs": [
    {
     "data": {
      "text/html": [
       "<div>\n",
       "<style scoped>\n",
       "    .dataframe tbody tr th:only-of-type {\n",
       "        vertical-align: middle;\n",
       "    }\n",
       "\n",
       "    .dataframe tbody tr th {\n",
       "        vertical-align: top;\n",
       "    }\n",
       "\n",
       "    .dataframe thead th {\n",
       "        text-align: right;\n",
       "    }\n",
       "</style>\n",
       "<table border=\"1\" class=\"dataframe\">\n",
       "  <thead>\n",
       "    <tr style=\"text-align: right;\">\n",
       "      <th></th>\n",
       "      <th>Depreg</th>\n",
       "      <th>Asisrec</th>\n",
       "      <th>Sitioocu</th>\n",
       "      <th>Year</th>\n",
       "      <th>Escolap</th>\n",
       "      <th>Escolam</th>\n",
       "    </tr>\n",
       "  </thead>\n",
       "  <tbody>\n",
       "    <tr>\n",
       "      <th>0</th>\n",
       "      <td>Guatemala</td>\n",
       "      <td>Medica</td>\n",
       "      <td>Domicilio</td>\n",
       "      <td>2009</td>\n",
       "      <td>NaN</td>\n",
       "      <td>NaN</td>\n",
       "    </tr>\n",
       "    <tr>\n",
       "      <th>1</th>\n",
       "      <td>Guatemala</td>\n",
       "      <td>Medica</td>\n",
       "      <td>Domicilio</td>\n",
       "      <td>2009</td>\n",
       "      <td>NaN</td>\n",
       "      <td>NaN</td>\n",
       "    </tr>\n",
       "    <tr>\n",
       "      <th>2</th>\n",
       "      <td>Guatemala</td>\n",
       "      <td>Medica</td>\n",
       "      <td>Domicilio</td>\n",
       "      <td>2009</td>\n",
       "      <td>NaN</td>\n",
       "      <td>NaN</td>\n",
       "    </tr>\n",
       "    <tr>\n",
       "      <th>3</th>\n",
       "      <td>Guatemala</td>\n",
       "      <td>Medica</td>\n",
       "      <td>Domicilio</td>\n",
       "      <td>2009</td>\n",
       "      <td>NaN</td>\n",
       "      <td>NaN</td>\n",
       "    </tr>\n",
       "    <tr>\n",
       "      <th>4</th>\n",
       "      <td>Guatemala</td>\n",
       "      <td>Medica</td>\n",
       "      <td>Domicilio</td>\n",
       "      <td>2009</td>\n",
       "      <td>NaN</td>\n",
       "      <td>NaN</td>\n",
       "    </tr>\n",
       "    <tr>\n",
       "      <th>...</th>\n",
       "      <td>...</td>\n",
       "      <td>...</td>\n",
       "      <td>...</td>\n",
       "      <td>...</td>\n",
       "      <td>...</td>\n",
       "      <td>...</td>\n",
       "    </tr>\n",
       "    <tr>\n",
       "      <th>383258</th>\n",
       "      <td>Quiche</td>\n",
       "      <td>Medico</td>\n",
       "      <td>Vía Pública</td>\n",
       "      <td>2018</td>\n",
       "      <td>Básica</td>\n",
       "      <td>Diversificado</td>\n",
       "    </tr>\n",
       "    <tr>\n",
       "      <th>383259</th>\n",
       "      <td>Escuintla</td>\n",
       "      <td>Empirico</td>\n",
       "      <td>Vía Pública</td>\n",
       "      <td>2018</td>\n",
       "      <td>Diversificado</td>\n",
       "      <td>Diversificado</td>\n",
       "    </tr>\n",
       "    <tr>\n",
       "      <th>383260</th>\n",
       "      <td>Alta Verapaz</td>\n",
       "      <td>Empirico</td>\n",
       "      <td>Vía Pública</td>\n",
       "      <td>2018</td>\n",
       "      <td>Primaria</td>\n",
       "      <td>Ninguno</td>\n",
       "    </tr>\n",
       "    <tr>\n",
       "      <th>383261</th>\n",
       "      <td>Peten</td>\n",
       "      <td>Empirico</td>\n",
       "      <td>Vía Pública</td>\n",
       "      <td>2018</td>\n",
       "      <td>Ninguno</td>\n",
       "      <td>Diversificado</td>\n",
       "    </tr>\n",
       "    <tr>\n",
       "      <th>383262</th>\n",
       "      <td>Quiche</td>\n",
       "      <td>Comadrona</td>\n",
       "      <td>Vía Pública</td>\n",
       "      <td>2018</td>\n",
       "      <td>Ignorado</td>\n",
       "      <td>Ignorado</td>\n",
       "    </tr>\n",
       "  </tbody>\n",
       "</table>\n",
       "<p>3796110 rows × 6 columns</p>\n",
       "</div>"
      ],
      "text/plain": [
       "              Depreg    Asisrec     Sitioocu  Year        Escolap  \\\n",
       "0          Guatemala     Medica    Domicilio  2009            NaN   \n",
       "1          Guatemala     Medica    Domicilio  2009            NaN   \n",
       "2          Guatemala     Medica    Domicilio  2009            NaN   \n",
       "3          Guatemala     Medica    Domicilio  2009            NaN   \n",
       "4          Guatemala     Medica    Domicilio  2009            NaN   \n",
       "...              ...        ...          ...   ...            ...   \n",
       "383258        Quiche     Medico  Vía Pública  2018         Básica   \n",
       "383259     Escuintla   Empirico  Vía Pública  2018  Diversificado   \n",
       "383260  Alta Verapaz   Empirico  Vía Pública  2018       Primaria   \n",
       "383261         Peten   Empirico  Vía Pública  2018        Ninguno   \n",
       "383262        Quiche  Comadrona  Vía Pública  2018       Ignorado   \n",
       "\n",
       "              Escolam  \n",
       "0                 NaN  \n",
       "1                 NaN  \n",
       "2                 NaN  \n",
       "3                 NaN  \n",
       "4                 NaN  \n",
       "...               ...  \n",
       "383258  Diversificado  \n",
       "383259  Diversificado  \n",
       "383260        Ninguno  \n",
       "383261  Diversificado  \n",
       "383262       Ignorado  \n",
       "\n",
       "[3796110 rows x 6 columns]"
      ]
     },
     "execution_count": 305,
     "metadata": {},
     "output_type": "execute_result"
    }
   ],
   "source": [
    "data"
   ]
  },
  {
   "cell_type": "code",
   "execution_count": 306,
   "metadata": {},
   "outputs": [
    {
     "data": {
      "text/plain": [
       "(3796110, 6)"
      ]
     },
     "execution_count": 306,
     "metadata": {},
     "output_type": "execute_result"
    }
   ],
   "source": [
    "data.shape"
   ]
  },
  {
   "cell_type": "code",
   "execution_count": 307,
   "metadata": {},
   "outputs": [
    {
     "data": {
      "text/plain": [
       "Depreg      category\n",
       "Asisrec       object\n",
       "Sitioocu      object\n",
       "Year           int64\n",
       "Escolap       object\n",
       "Escolam       object\n",
       "dtype: object"
      ]
     },
     "execution_count": 307,
     "metadata": {},
     "output_type": "execute_result"
    }
   ],
   "source": [
    "data.dtypes"
   ]
  },
  {
   "attachments": {},
   "cell_type": "markdown",
   "metadata": {},
   "source": [
    "## Análisis Exploratorio"
   ]
  },
  {
   "attachments": {},
   "cell_type": "markdown",
   "metadata": {},
   "source": [
    "Podemos observar que en nuestro data set contamos con una unica variable numerica siendo el año del registro. Luego en cuanto a la escolaridad de ambos padres y el municipio y departamento de registro lo encontramos como categorico."
   ]
  },
  {
   "cell_type": "code",
   "execution_count": 308,
   "metadata": {},
   "outputs": [],
   "source": [
    "data['Escolam'] = data['Escolam'].fillna('Ninguno')\n",
    "data['Escolap'] = data['Escolap'].fillna('Ninguno')"
   ]
  },
  {
   "cell_type": "code",
   "execution_count": 309,
   "metadata": {},
   "outputs": [
    {
     "data": {
      "image/png": "[encoded data removed]",
      "text/plain": [
       "<Figure size 640x480 with 2 Axes>"
      ]
     },
     "metadata": {},
     "output_type": "display_data"
    }
   ],
   "source": [
    "sns.heatmap(data.isna(), cmap='viridis')\n",
    "plt.show()"
   ]
  },
  {
   "cell_type": "code",
   "execution_count": 310,
   "metadata": {},
   "outputs": [
    {
     "data": {
      "text/plain": [
       "array(['Ninguno', 'Diversificado', 'Universitario', 'Básica', 'Ignorado',\n",
       "       'Primaria', 'Post Grado', 'Doctorado', 'Básico', 'Postgrado',\n",
       "       'Post grado'], dtype=object)"
      ]
     },
     "execution_count": 310,
     "metadata": {},
     "output_type": "execute_result"
    }
   ],
   "source": [
    "data['Escolam'].unique()"
   ]
  },
  {
   "cell_type": "code",
   "execution_count": 311,
   "metadata": {},
   "outputs": [],
   "source": [
    "data['Escolap'] = data['Escolap'].replace(['Post Grado', 'Post grado'], 'Postgrado')\n",
    "data['Escolam'] = data['Escolap'].replace(['Post Grado', 'Post grado'], 'Postgrado')\n",
    "data['Escolap'] = data['Escolap'].replace('Básico', 'Básica')\n",
    "data['Escolam'] = data['Escolap'].replace('Básico', 'Básica')\n"
   ]
  },
  {
   "cell_type": "code",
   "execution_count": 312,
   "metadata": {},
   "outputs": [
    {
     "data": {
      "text/plain": [
       "array(['Ninguno', 'Diversificado', 'Universitario', 'Ignorado',\n",
       "       'Postgrado', 'Básica', 'Primaria', 'Doctorado'], dtype=object)"
      ]
     },
     "execution_count": 312,
     "metadata": {},
     "output_type": "execute_result"
    }
   ],
   "source": [
    "data['Escolam'].unique()"
   ]
  },
  {
   "cell_type": "code",
   "execution_count": 313,
   "metadata": {},
   "outputs": [
    {
     "data": {
      "text/plain": [
       "array(['Ninguno', 'Diversificado', 'Universitario', 'Ignorado',\n",
       "       'Postgrado', 'Básica', 'Primaria', 'Doctorado'], dtype=object)"
      ]
     },
     "execution_count": 313,
     "metadata": {},
     "output_type": "execute_result"
    }
   ],
   "source": [
    "data['Escolap'].unique()"
   ]
  },
  {
   "attachments": {},
   "cell_type": "markdown",
   "metadata": {},
   "source": [
    "Ahora vamos a codificar la escolaridad de la madre y del padre asignandoles un valor numerico a dichas variables. Para ello vamos a usar el diccionario de variables directamente brindado por el Instituto Nacional de Estadistica donde asignan:\n",
    "- 1: Ninguno\n",
    "- 2: Primaria\n",
    "- 3: Básica\n",
    "- 4: Diversificado\n",
    "- 5: Universitario\n",
    "- 6: Postgrado\n",
    "- 7: Ignorado\n",
    "- 8: Doctorado"
   ]
  },
  {
   "cell_type": "code",
   "execution_count": 314,
   "metadata": {},
   "outputs": [],
   "source": [
    "data['Escolam'] = data['Escolam'].replace({\n",
    "    'Ninguno': 1,\n",
    "    'Primaria': 2,\n",
    "    'Básica': 3,\n",
    "    'Diversificado': 4,\n",
    "    'Universitario': 5,\n",
    "    'Postgrado': 6,\n",
    "    'Ignorado': 7,\n",
    "    'Doctorado': 8\n",
    "})\n",
    "data['Escolap'] = data['Escolap'].replace({\n",
    "    'Ninguno': 1,\n",
    "    'Primaria': 2,\n",
    "    'Básica': 3,\n",
    "    'Diversificado': 4,\n",
    "    'Universitario': 5,\n",
    "    'Postgrado': 6,\n",
    "    'Ignorado': 7,\n",
    "    'Doctorado': 8\n",
    "})\n"
   ]
  },
  {
   "cell_type": "code",
   "execution_count": 315,
   "metadata": {},
   "outputs": [
    {
     "data": {
      "text/html": [
       "<div>\n",
       "<style scoped>\n",
       "    .dataframe tbody tr th:only-of-type {\n",
       "        vertical-align: middle;\n",
       "    }\n",
       "\n",
       "    .dataframe tbody tr th {\n",
       "        vertical-align: top;\n",
       "    }\n",
       "\n",
       "    .dataframe thead th {\n",
       "        text-align: right;\n",
       "    }\n",
       "</style>\n",
       "<table border=\"1\" class=\"dataframe\">\n",
       "  <thead>\n",
       "    <tr style=\"text-align: right;\">\n",
       "      <th></th>\n",
       "      <th>Depreg</th>\n",
       "      <th>Asisrec</th>\n",
       "      <th>Sitioocu</th>\n",
       "      <th>Year</th>\n",
       "      <th>Escolap</th>\n",
       "      <th>Escolam</th>\n",
       "    </tr>\n",
       "  </thead>\n",
       "  <tbody>\n",
       "    <tr>\n",
       "      <th>0</th>\n",
       "      <td>Guatemala</td>\n",
       "      <td>Medica</td>\n",
       "      <td>Domicilio</td>\n",
       "      <td>2009</td>\n",
       "      <td>1</td>\n",
       "      <td>1</td>\n",
       "    </tr>\n",
       "    <tr>\n",
       "      <th>1</th>\n",
       "      <td>Guatemala</td>\n",
       "      <td>Medica</td>\n",
       "      <td>Domicilio</td>\n",
       "      <td>2009</td>\n",
       "      <td>1</td>\n",
       "      <td>1</td>\n",
       "    </tr>\n",
       "    <tr>\n",
       "      <th>2</th>\n",
       "      <td>Guatemala</td>\n",
       "      <td>Medica</td>\n",
       "      <td>Domicilio</td>\n",
       "      <td>2009</td>\n",
       "      <td>1</td>\n",
       "      <td>1</td>\n",
       "    </tr>\n",
       "    <tr>\n",
       "      <th>3</th>\n",
       "      <td>Guatemala</td>\n",
       "      <td>Medica</td>\n",
       "      <td>Domicilio</td>\n",
       "      <td>2009</td>\n",
       "      <td>1</td>\n",
       "      <td>1</td>\n",
       "    </tr>\n",
       "    <tr>\n",
       "      <th>4</th>\n",
       "      <td>Guatemala</td>\n",
       "      <td>Medica</td>\n",
       "      <td>Domicilio</td>\n",
       "      <td>2009</td>\n",
       "      <td>1</td>\n",
       "      <td>1</td>\n",
       "    </tr>\n",
       "    <tr>\n",
       "      <th>...</th>\n",
       "      <td>...</td>\n",
       "      <td>...</td>\n",
       "      <td>...</td>\n",
       "      <td>...</td>\n",
       "      <td>...</td>\n",
       "      <td>...</td>\n",
       "    </tr>\n",
       "    <tr>\n",
       "      <th>383258</th>\n",
       "      <td>Quiche</td>\n",
       "      <td>Medico</td>\n",
       "      <td>Vía Pública</td>\n",
       "      <td>2018</td>\n",
       "      <td>3</td>\n",
       "      <td>3</td>\n",
       "    </tr>\n",
       "    <tr>\n",
       "      <th>383259</th>\n",
       "      <td>Escuintla</td>\n",
       "      <td>Empirico</td>\n",
       "      <td>Vía Pública</td>\n",
       "      <td>2018</td>\n",
       "      <td>4</td>\n",
       "      <td>4</td>\n",
       "    </tr>\n",
       "    <tr>\n",
       "      <th>383260</th>\n",
       "      <td>Alta Verapaz</td>\n",
       "      <td>Empirico</td>\n",
       "      <td>Vía Pública</td>\n",
       "      <td>2018</td>\n",
       "      <td>2</td>\n",
       "      <td>2</td>\n",
       "    </tr>\n",
       "    <tr>\n",
       "      <th>383261</th>\n",
       "      <td>Peten</td>\n",
       "      <td>Empirico</td>\n",
       "      <td>Vía Pública</td>\n",
       "      <td>2018</td>\n",
       "      <td>1</td>\n",
       "      <td>1</td>\n",
       "    </tr>\n",
       "    <tr>\n",
       "      <th>383262</th>\n",
       "      <td>Quiche</td>\n",
       "      <td>Comadrona</td>\n",
       "      <td>Vía Pública</td>\n",
       "      <td>2018</td>\n",
       "      <td>7</td>\n",
       "      <td>7</td>\n",
       "    </tr>\n",
       "  </tbody>\n",
       "</table>\n",
       "<p>3796110 rows × 6 columns</p>\n",
       "</div>"
      ],
      "text/plain": [
       "              Depreg    Asisrec     Sitioocu  Year  Escolap  Escolam\n",
       "0          Guatemala     Medica    Domicilio  2009        1        1\n",
       "1          Guatemala     Medica    Domicilio  2009        1        1\n",
       "2          Guatemala     Medica    Domicilio  2009        1        1\n",
       "3          Guatemala     Medica    Domicilio  2009        1        1\n",
       "4          Guatemala     Medica    Domicilio  2009        1        1\n",
       "...              ...        ...          ...   ...      ...      ...\n",
       "383258        Quiche     Medico  Vía Pública  2018        3        3\n",
       "383259     Escuintla   Empirico  Vía Pública  2018        4        4\n",
       "383260  Alta Verapaz   Empirico  Vía Pública  2018        2        2\n",
       "383261         Peten   Empirico  Vía Pública  2018        1        1\n",
       "383262        Quiche  Comadrona  Vía Pública  2018        7        7\n",
       "\n",
       "[3796110 rows x 6 columns]"
      ]
     },
     "execution_count": 315,
     "metadata": {},
     "output_type": "execute_result"
    }
   ],
   "source": [
    "data"
   ]
  },
  {
   "attachments": {},
   "cell_type": "markdown",
   "metadata": {},
   "source": [
    "Realizaremos el mismo proceso para codificar el municipio y departamento del registro de nacimiento. Utilizando el diccionario brindado oficial obtenemos:\n",
    "Departamentos\n",
    "1. Guatemala\n",
    "2. El Progreso\n",
    "3. Sacatepéquez\n",
    "4. Chimaltenango\n",
    "5. Escuintla\n",
    "6. Santa Rosa\n",
    "7. Sololá\n",
    "8. Totonicapán\n",
    "9. Quetzaltenango\n",
    "10. Suchitepéquez\n",
    "11. Retalhuleu\n",
    "12. San Marcos\n",
    "13. Huehuetenango\n",
    "14. Quiché\n",
    "15. Baja Verapaz\n",
    "16. Alta Verapaz\n",
    "17. Petén\n",
    "18. Izabal\n",
    "19. Zacapa\n",
    "20. Chiquimula\n",
    "21. Jalapa\n",
    "22. Jutiapa"
   ]
  },
  {
   "cell_type": "code",
   "execution_count": 316,
   "metadata": {},
   "outputs": [],
   "source": [
    "data['Depreg'] = data['Depreg'].replace({\n",
    "    'Guatemala': 1,\n",
    "    'El Progreso': 2,\n",
    "    'Sacatepéquez': 3,\n",
    "    'Chimaltenango': 4,\n",
    "    'Escuintla': 5,\n",
    "    'Santa Rosa': 6,\n",
    "    'Sololá': 7,\n",
    "    'Solola': 7,\n",
    "    'Totonicapán': 8,\n",
    "    'Quetzaltenango': 9,\n",
    "    'Suchitepéquez': 10,\n",
    "    'Retalhuleu': 11,\n",
    "    'San Marcos': 12,\n",
    "    'Huehuetenango': 13,\n",
    "    'Quiché': 14,\n",
    "    'Baja Verapaz': 15,\n",
    "    'Alta Verapaz': 16,\n",
    "    'Petén': 17,\n",
    "    'Izabal': 18,\n",
    "    'Zacapa': 19,\n",
    "    'Chiquimula': 20,\n",
    "    'Jalapa': 21,\n",
    "    'Jutiapa': 22,\n",
    "    'Guatemala': 1,\n",
    "    'El Progreso': 2,\n",
    "    'Sacatepequez': 3,\n",
    "    'Chimaltenango': 4,\n",
    "    'Escuintla': 5,\n",
    "    'Santa Rosa': 6,\n",
    "    'Solola': 7,\n",
    "    'Totonicapan': 8,\n",
    "    'Quetzaltenango': 9,\n",
    "    'Suchitepecquez': 10,\n",
    "    'Retalhuleu': 11,\n",
    "    'San Marcos': 12,\n",
    "    'Huehuetenango': 13,\n",
    "    'Quiche': 14,\n",
    "    'Baja Verapaz': 15,\n",
    "    'Alta Verapaz': 16,\n",
    "    'Peten': 17,\n",
    "    'Izabal': 18,\n",
    "    'Zacapa': 19,\n",
    "    'Chiquimula': 20,\n",
    "    'Jalapa': 21,\n",
    "    'Jutiapa': 22,\n",
    "    'Suchitepequez':10\n",
    "})\n"
   ]
  },
  {
   "cell_type": "code",
   "execution_count": 317,
   "metadata": {},
   "outputs": [
    {
     "name": "stdout",
     "output_type": "stream",
     "text": [
      "[1, 7, 6, 14, 18, 2, 22, 4, 3, 5, 21, 17, 20, 9, 12, 15, 16, 19, 10, 8, 11, 13]\n"
     ]
    }
   ],
   "source": [
    "print(list(data['Depreg'].unique()))"
   ]
  },
  {
   "attachments": {},
   "cell_type": "markdown",
   "metadata": {},
   "source": [
    "Ahora codificamos la asistencia recibida y el sitio de ocurrencia <br>\n",
    "Asistencia\n",
    "- 'Medico':1\n",
    "- 'Personal de Enfermeria':2\n",
    "- 'Paramedico':3\n",
    "- 'Comadrona':4\n",
    "- 'Empirico':5\n",
    "- 'Ninguno':6\n",
    "- 'Ignorado':7\n",
    "\n",
    "Sitio ocurrencia\n",
    "- 'Hospital público':1\n",
    "- 'Hospital privado':2\n",
    "- 'Centro de salud':3\n",
    "- 'Seguro social':4\n",
    "- 'Vìa pública':5\n",
    "- 'Domicilio':6\n",
    "- 'Otro':7\n",
    "- 'Ignorado':8"
   ]
  },
  {
   "cell_type": "code",
   "execution_count": 330,
   "metadata": {},
   "outputs": [],
   "source": [
    "data['Asisrec'] = data['Asisrec'].replace({\n",
    "'Medico':1,\n",
    "'Medica':1,\n",
    "'Médica':1,\n",
    "'Personal de Enfermeria':2,\n",
    "'Paramedico':3,\n",
    "'Paramédica':3,\n",
    "'Comadrona':4,\n",
    "'Empirico':5,\n",
    "'Empirica':5,\n",
    "'Empírica':5,\n",
    "'Ninguno':6,\n",
    "'Ninguna':6,\n",
    "'Ignorado':7\n",
    "})\n",
    "\n",
    "data['Sitioocu'] = data['Sitioocu'].replace({\n",
    "'Hospital público':1,\n",
    "'Hospital':1,\n",
    "'Hospital privado':2,\n",
    "'Centro de salud':3,\n",
    "'Casa de salud':3,\n",
    "'Seguro social':4,\n",
    "'Vìa pública':5,\n",
    "'Via pública':5,\n",
    "'Via publica':5,\n",
    "'Vía Pública':5,\n",
    "'Domicilio':6,\n",
    "'Otro':7,\n",
    "'Ignorado':8\n",
    "\n",
    "})"
   ]
  },
  {
   "cell_type": "code",
   "execution_count": 331,
   "metadata": {},
   "outputs": [
    {
     "data": {
      "text/plain": [
       "array([6, 5, 3, 1, 8, 2, 4, 7], dtype=int64)"
      ]
     },
     "execution_count": 331,
     "metadata": {},
     "output_type": "execute_result"
    }
   ],
   "source": [
    "data['Sitioocu'].unique()"
   ]
  },
  {
   "cell_type": "code",
   "execution_count": 332,
   "metadata": {},
   "outputs": [
    {
     "data": {
      "text/plain": [
       "array([1, 6, 4, 7, 5, 3], dtype=int64)"
      ]
     },
     "execution_count": 332,
     "metadata": {},
     "output_type": "execute_result"
    }
   ],
   "source": [
    "data['Asisrec'].unique()"
   ]
  },
  {
   "cell_type": "code",
   "execution_count": 333,
   "metadata": {},
   "outputs": [
    {
     "data": {
      "text/plain": [
       "Depreg      category\n",
       "Asisrec        int64\n",
       "Sitioocu       int64\n",
       "Year           int64\n",
       "Escolap        int64\n",
       "Escolam        int64\n",
       "dtype: object"
      ]
     },
     "execution_count": 333,
     "metadata": {},
     "output_type": "execute_result"
    }
   ],
   "source": [
    "data.dtypes"
   ]
  },
  {
   "cell_type": "code",
   "execution_count": 334,
   "metadata": {},
   "outputs": [
    {
     "data": {
      "text/plain": [
       "<bound method DataFrame.info of        Depreg  Asisrec  Sitioocu  Year  Escolap  Escolam\n",
       "0           1        1         6  2009        1        1\n",
       "1           1        1         6  2009        1        1\n",
       "2           1        1         6  2009        1        1\n",
       "3           1        1         6  2009        1        1\n",
       "4           1        1         6  2009        1        1\n",
       "...       ...      ...       ...   ...      ...      ...\n",
       "383258     14        1         5  2018        3        3\n",
       "383259      5        5         5  2018        4        4\n",
       "383260     16        5         5  2018        2        2\n",
       "383261     17        5         5  2018        1        1\n",
       "383262     14        4         5  2018        7        7\n",
       "\n",
       "[3796110 rows x 6 columns]>"
      ]
     },
     "execution_count": 334,
     "metadata": {},
     "output_type": "execute_result"
    }
   ],
   "source": [
    "data.info"
   ]
  },
  {
   "cell_type": "code",
   "execution_count": 335,
   "metadata": {},
   "outputs": [
    {
     "data": {
      "text/html": [
       "<div>\n",
       "<style scoped>\n",
       "    .dataframe tbody tr th:only-of-type {\n",
       "        vertical-align: middle;\n",
       "    }\n",
       "\n",
       "    .dataframe tbody tr th {\n",
       "        vertical-align: top;\n",
       "    }\n",
       "\n",
       "    .dataframe thead th {\n",
       "        text-align: right;\n",
       "    }\n",
       "</style>\n",
       "<table border=\"1\" class=\"dataframe\">\n",
       "  <thead>\n",
       "    <tr style=\"text-align: right;\">\n",
       "      <th></th>\n",
       "      <th>Depreg</th>\n",
       "      <th>Asisrec</th>\n",
       "      <th>Sitioocu</th>\n",
       "      <th>Year</th>\n",
       "      <th>Escolap</th>\n",
       "      <th>Escolam</th>\n",
       "    </tr>\n",
       "  </thead>\n",
       "  <tbody>\n",
       "    <tr>\n",
       "      <th>0</th>\n",
       "      <td>1</td>\n",
       "      <td>1</td>\n",
       "      <td>6</td>\n",
       "      <td>2009</td>\n",
       "      <td>1</td>\n",
       "      <td>1</td>\n",
       "    </tr>\n",
       "    <tr>\n",
       "      <th>1</th>\n",
       "      <td>1</td>\n",
       "      <td>1</td>\n",
       "      <td>6</td>\n",
       "      <td>2009</td>\n",
       "      <td>1</td>\n",
       "      <td>1</td>\n",
       "    </tr>\n",
       "    <tr>\n",
       "      <th>2</th>\n",
       "      <td>1</td>\n",
       "      <td>1</td>\n",
       "      <td>6</td>\n",
       "      <td>2009</td>\n",
       "      <td>1</td>\n",
       "      <td>1</td>\n",
       "    </tr>\n",
       "    <tr>\n",
       "      <th>3</th>\n",
       "      <td>1</td>\n",
       "      <td>1</td>\n",
       "      <td>6</td>\n",
       "      <td>2009</td>\n",
       "      <td>1</td>\n",
       "      <td>1</td>\n",
       "    </tr>\n",
       "    <tr>\n",
       "      <th>4</th>\n",
       "      <td>1</td>\n",
       "      <td>1</td>\n",
       "      <td>6</td>\n",
       "      <td>2009</td>\n",
       "      <td>1</td>\n",
       "      <td>1</td>\n",
       "    </tr>\n",
       "    <tr>\n",
       "      <th>...</th>\n",
       "      <td>...</td>\n",
       "      <td>...</td>\n",
       "      <td>...</td>\n",
       "      <td>...</td>\n",
       "      <td>...</td>\n",
       "      <td>...</td>\n",
       "    </tr>\n",
       "    <tr>\n",
       "      <th>383258</th>\n",
       "      <td>14</td>\n",
       "      <td>1</td>\n",
       "      <td>5</td>\n",
       "      <td>2018</td>\n",
       "      <td>3</td>\n",
       "      <td>3</td>\n",
       "    </tr>\n",
       "    <tr>\n",
       "      <th>383259</th>\n",
       "      <td>5</td>\n",
       "      <td>5</td>\n",
       "      <td>5</td>\n",
       "      <td>2018</td>\n",
       "      <td>4</td>\n",
       "      <td>4</td>\n",
       "    </tr>\n",
       "    <tr>\n",
       "      <th>383260</th>\n",
       "      <td>16</td>\n",
       "      <td>5</td>\n",
       "      <td>5</td>\n",
       "      <td>2018</td>\n",
       "      <td>2</td>\n",
       "      <td>2</td>\n",
       "    </tr>\n",
       "    <tr>\n",
       "      <th>383261</th>\n",
       "      <td>17</td>\n",
       "      <td>5</td>\n",
       "      <td>5</td>\n",
       "      <td>2018</td>\n",
       "      <td>1</td>\n",
       "      <td>1</td>\n",
       "    </tr>\n",
       "    <tr>\n",
       "      <th>383262</th>\n",
       "      <td>14</td>\n",
       "      <td>4</td>\n",
       "      <td>5</td>\n",
       "      <td>2018</td>\n",
       "      <td>7</td>\n",
       "      <td>7</td>\n",
       "    </tr>\n",
       "  </tbody>\n",
       "</table>\n",
       "<p>3796110 rows × 6 columns</p>\n",
       "</div>"
      ],
      "text/plain": [
       "       Depreg  Asisrec  Sitioocu  Year  Escolap  Escolam\n",
       "0           1        1         6  2009        1        1\n",
       "1           1        1         6  2009        1        1\n",
       "2           1        1         6  2009        1        1\n",
       "3           1        1         6  2009        1        1\n",
       "4           1        1         6  2009        1        1\n",
       "...       ...      ...       ...   ...      ...      ...\n",
       "383258     14        1         5  2018        3        3\n",
       "383259      5        5         5  2018        4        4\n",
       "383260     16        5         5  2018        2        2\n",
       "383261     17        5         5  2018        1        1\n",
       "383262     14        4         5  2018        7        7\n",
       "\n",
       "[3796110 rows x 6 columns]"
      ]
     },
     "execution_count": 335,
     "metadata": {},
     "output_type": "execute_result"
    }
   ],
   "source": [
    "data"
   ]
  },
  {
   "cell_type": "code",
   "execution_count": 336,
   "metadata": {},
   "outputs": [
    {
     "data": {
      "text/plain": [
       "(3796110, 6)"
      ]
     },
     "execution_count": 336,
     "metadata": {},
     "output_type": "execute_result"
    }
   ],
   "source": [
    "data.shape"
   ]
  },
  {
   "attachments": {},
   "cell_type": "markdown",
   "metadata": {},
   "source": [
    "Ya con nuestro dataset codificado podemos proseguir"
   ]
  },
  {
   "cell_type": "code",
   "execution_count": 318,
   "metadata": {},
   "outputs": [
    {
     "data": {
      "image/png": "[encoded data removed]",
      "text/plain": [
       "<Figure size 640x480 with 2 Axes>"
      ]
     },
     "metadata": {},
     "output_type": "display_data"
    }
   ],
   "source": [
    "sns.heatmap(data.isna(), cmap='viridis')\n",
    "plt.show()"
   ]
  },
  {
   "cell_type": "code",
   "execution_count": 319,
   "metadata": {},
   "outputs": [
    {
     "name": "stdout",
     "output_type": "stream",
     "text": [
      "-201193830\n"
     ]
    }
   ],
   "source": [
    "print(data.size - merged_df.size)"
   ]
  }
 ],
 "metadata": {
  "kernelspec": {
   "display_name": "Python 3",
   "language": "python",
   "name": "python3"
  },
  "language_info": {
   "codemirror_mode": {
    "name": "ipython",
    "version": 3
   },
   "file_extension": ".py",
   "mimetype": "text/x-python",
   "name": "python",
   "nbconvert_exporter": "python",
   "pygments_lexer": "ipython3",
   "version": "3.10.5"
  },
  "orig_nbformat": 4
 },
 "nbformat": 4,
 "nbformat_minor": 2
}
