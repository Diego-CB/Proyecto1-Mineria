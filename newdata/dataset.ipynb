{
 "cells": [
  {
   "cell_type": "code",
   "execution_count": null,
   "metadata": {},
   "outputs": [],
   "source": [
    "# Imports a utilizar \n",
    "import numpy as np\n",
    "import matplotlib as plt\n",
    "import pandas as pd\n",
    "import seaborn as sns\n",
    "import plotly.express as px\n",
    "\n",
    "from quickda.explore_data import *\n",
    "from quickda.clean_data import *\n",
    "from quickda.explore_numeric import *\n",
    "from quickda.explore_categoric import *\n",
    "from quickda.explore_numeric_categoric import *\n",
    "from quickda.explore_time_series import *\n",
    "from sklearn.preprocessing import StandardScaler\n",
    "from sklearn.model_selection import train_test_split\n",
    "from sklearn.cluster import KMeans\n",
    "from sklearn.svm import SVC"
   ]
  },
  {
   "attachments": {},
   "cell_type": "markdown",
   "metadata": {},
   "source": [
    "### Abrir la data y observar su tipo de variable"
   ]
  },
  {
   "cell_type": "code",
   "execution_count": null,
   "metadata": {},
   "outputs": [],
   "source": [
    "# Crea una lista vacía para guardar los DataFrames\n",
    "dfs = []\n",
    "\n",
    "for year in range(2009, 2019):\n",
    "    filename = f\"data{year}.sav\"\n",
    "    df = pd.read_spss(filename)\n",
    "    dfs.append(df)\n",
    "    df['Year'] = year\n",
    "\n",
    "# Concatena los DataFrames en uno solo\n",
    "merged_df = pd.concat(dfs)\n",
    "\n",
    "# Muestra las primeras 5 filas del DataFrame combinado\n",
    "print(merged_df['Year'].unique())"
   ]
  },
  {
   "cell_type": "code",
   "execution_count": null,
   "metadata": {},
   "outputs": [],
   "source": [
    "merged_df.columns"
   ]
  },
  {
   "cell_type": "code",
   "execution_count": null,
   "metadata": {},
   "outputs": [],
   "source": [
    "merged_df.dtypes"
   ]
  },
  {
   "cell_type": "code",
   "execution_count": null,
   "metadata": {},
   "outputs": [],
   "source": [
    "columns = merged_df.columns\n",
    "numeric_data = merged_df._get_numeric_data().columns\n",
    "\n",
    "categorical_data = set(columns) - set(numeric_data)\n",
    "print(\"-> Columnas con valores numericos \\n \",numeric_data ,'\\n')\n",
    "print(\"-> Columnas con valores categoricos\\n \",categorical_data)"
   ]
  },
  {
   "attachments": {},
   "cell_type": "markdown",
   "metadata": {},
   "source": [
    "### Limpieza de Variables"
   ]
  },
  {
   "attachments": {},
   "cell_type": "markdown",
   "metadata": {},
   "source": [
    "Se toman las columnas que van a ser utilizadas en el modelo predictivo. Estas son:\n",
    "- Departamento de registro\n",
    "- Municipio de registro\n",
    "- Escolaridad de la madre\n",
    "- Escolaridad del padre\n",
    "- Año de registro"
   ]
  },
  {
   "cell_type": "code",
   "execution_count": null,
   "metadata": {},
   "outputs": [],
   "source": [
    "columnas_deseadas = ['Depreg', 'Escolam', 'Escolap', 'Year', 'Asisrec', 'Sitioocu']\n",
    "data = merged_df.drop(columns=merged_df.columns.difference(columnas_deseadas))"
   ]
  },
  {
   "attachments": {},
   "cell_type": "markdown",
   "metadata": {},
   "source": [
    "Vamos a verificar si la data que estamos tomando contiene valores nulos o NaN."
   ]
  },
  {
   "attachments": {},
   "cell_type": "markdown",
   "metadata": {},
   "source": [
    "Podemos observar que en nuestro dataset a utilizar contamos con algunos registros faltantes. Estos estan ubicados especificamente en las columnas de escolaridad de la madre y del padre del nacido."
   ]
  },
  {
   "cell_type": "code",
   "execution_count": null,
   "metadata": {},
   "outputs": [],
   "source": [
    "data.columns"
   ]
  },
  {
   "cell_type": "code",
   "execution_count": null,
   "metadata": {},
   "outputs": [],
   "source": [
    "data"
   ]
  },
  {
   "cell_type": "code",
   "execution_count": null,
   "metadata": {},
   "outputs": [],
   "source": [
    "data.shape"
   ]
  },
  {
   "attachments": {},
   "cell_type": "markdown",
   "metadata": {},
   "source": [
    "## Análisis Exploratorio"
   ]
  },
  {
   "attachments": {},
   "cell_type": "markdown",
   "metadata": {},
   "source": [
    "Podemos observar que en nuestro data set contamos con una unica variable numerica siendo el año del registro. Luego en cuanto a la escolaridad de ambos padres y el municipio y departamento de registro lo encontramos como categorico."
   ]
  },
  {
   "cell_type": "code",
   "execution_count": null,
   "metadata": {},
   "outputs": [],
   "source": [
    "data['Escolam'] = data['Escolam'].fillna('Ninguno')\n",
    "data['Escolap'] = data['Escolap'].fillna('Ninguno')"
   ]
  },
  {
   "cell_type": "code",
   "execution_count": null,
   "metadata": {},
   "outputs": [],
   "source": [
    "sns.heatmap(data.isna(), cmap='viridis')\n",
    "plt.show()"
   ]
  },
  {
   "cell_type": "code",
   "execution_count": null,
   "metadata": {},
   "outputs": [],
   "source": [
    "data['Escolam'].unique()"
   ]
  },
  {
   "cell_type": "code",
   "execution_count": null,
   "metadata": {},
   "outputs": [],
   "source": [
    "data['Escolap'] = data['Escolap'].replace(['Post Grado', 'Post grado'], 'Postgrado')\n",
    "data['Escolam'] = data['Escolap'].replace(['Post Grado', 'Post grado'], 'Postgrado')\n",
    "data['Escolap'] = data['Escolap'].replace('Básico', 'Básica')\n",
    "data['Escolam'] = data['Escolap'].replace('Básico', 'Básica')\n"
   ]
  },
  {
   "cell_type": "code",
   "execution_count": null,
   "metadata": {},
   "outputs": [],
   "source": [
    "data['Escolam'].unique()"
   ]
  },
  {
   "cell_type": "code",
   "execution_count": null,
   "metadata": {},
   "outputs": [],
   "source": [
    "data['Escolap'].unique()"
   ]
  },
  {
   "attachments": {},
   "cell_type": "markdown",
   "metadata": {},
   "source": [
    "Ahora vamos a codificar la escolaridad de la madre y del padre asignandoles un valor numerico a dichas variables. Para ello vamos a usar el diccionario de variables directamente brindado por el Instituto Nacional de Estadistica donde asignan:\n",
    "- 1: Ninguno\n",
    "- 2: Primaria\n",
    "- 3: Básica\n",
    "- 4: Diversificado\n",
    "- 5: Universitario\n",
    "- 6: Postgrado\n",
    "- 7: Ignorado\n",
    "- 8: Doctorado"
   ]
  },
  {
   "cell_type": "code",
   "execution_count": null,
   "metadata": {},
   "outputs": [],
   "source": [
    "data['Escolam'] = data['Escolam'].replace({\n",
    "    'Ninguno': 1,\n",
    "    'Primaria': 2,\n",
    "    'Básica': 3,\n",
    "    'Diversificado': 4,\n",
    "    'Universitario': 5,\n",
    "    'Postgrado': 6,\n",
    "    'Ignorado': 7,\n",
    "    'Doctorado': 8\n",
    "})\n",
    "data['Escolap'] = data['Escolap'].replace({\n",
    "    'Ninguno': 1,\n",
    "    'Primaria': 2,\n",
    "    'Básica': 3,\n",
    "    'Diversificado': 4,\n",
    "    'Universitario': 5,\n",
    "    'Postgrado': 6,\n",
    "    'Ignorado': 7,\n",
    "    'Doctorado': 8\n",
    "})\n"
   ]
  },
  {
   "attachments": {},
   "cell_type": "markdown",
   "metadata": {},
   "source": [
    "Realizaremos el mismo proceso para codificar el municipio y departamento del registro de nacimiento. Utilizando el diccionario brindado oficial obtenemos:\n",
    "Departamentos\n",
    "1. Guatemala\n",
    "2. El Progreso\n",
    "3. Sacatepéquez\n",
    "4. Chimaltenango\n",
    "5. Escuintla\n",
    "6. Santa Rosa\n",
    "7. Sololá\n",
    "8. Totonicapán\n",
    "9. Quetzaltenango\n",
    "10. Suchitepéquez\n",
    "11. Retalhuleu\n",
    "12. San Marcos\n",
    "13. Huehuetenango\n",
    "14. Quiché\n",
    "15. Baja Verapaz\n",
    "16. Alta Verapaz\n",
    "17. Petén\n",
    "18. Izabal\n",
    "19. Zacapa\n",
    "20. Chiquimula\n",
    "21. Jalapa\n",
    "22. Jutiapa"
   ]
  },
  {
   "cell_type": "code",
   "execution_count": null,
   "metadata": {},
   "outputs": [],
   "source": [
    "data['Depreg'] = data['Depreg'].replace({\n",
    "    'Guatemala': 1,\n",
    "    'El Progreso': 2,\n",
    "    'Sacatepéquez': 3,\n",
    "    'Chimaltenango': 4,\n",
    "    'Escuintla': 5,\n",
    "    'Santa Rosa': 6,\n",
    "    'Sololá': 7,\n",
    "    'Solola': 7,\n",
    "    'Totonicapán': 8,\n",
    "    'Quetzaltenango': 9,\n",
    "    'Suchitepéquez': 10,\n",
    "    'Retalhuleu': 11,\n",
    "    'San Marcos': 12,\n",
    "    'Huehuetenango': 13,\n",
    "    'Quiché': 14,\n",
    "    'Baja Verapaz': 15,\n",
    "    'Alta Verapaz': 16,\n",
    "    'Petén': 17,\n",
    "    'Izabal': 18,\n",
    "    'Zacapa': 19,\n",
    "    'Chiquimula': 20,\n",
    "    'Jalapa': 21,\n",
    "    'Jutiapa': 22,\n",
    "    'Guatemala': 1,\n",
    "    'El Progreso': 2,\n",
    "    'Sacatepequez': 3,\n",
    "    'Chimaltenango': 4,\n",
    "    'Escuintla': 5,\n",
    "    'Santa Rosa': 6,\n",
    "    'Solola': 7,\n",
    "    'Totonicapan': 8,\n",
    "    'Quetzaltenango': 9,\n",
    "    'Suchitepecquez': 10,\n",
    "    'Retalhuleu': 11,\n",
    "    'San Marcos': 12,\n",
    "    'Huehuetenango': 13,\n",
    "    'Quiche': 14,\n",
    "    'Baja Verapaz': 15,\n",
    "    'Alta Verapaz': 16,\n",
    "    'Peten': 17,\n",
    "    'Izabal': 18,\n",
    "    'Zacapa': 19,\n",
    "    'Chiquimula': 20,\n",
    "    'Jalapa': 21,\n",
    "    'Jutiapa': 22,\n",
    "    'Suchitepequez':10\n",
    "})\n"
   ]
  },
  {
   "cell_type": "code",
   "execution_count": null,
   "metadata": {},
   "outputs": [],
   "source": [
    "print(list(data['Depreg'].unique()))"
   ]
  },
  {
   "attachments": {},
   "cell_type": "markdown",
   "metadata": {},
   "source": [
    "Ahora codificamos la asistencia recibida y el sitio de ocurrencia <br>\n",
    "Asistencia\n",
    "- 'Medico':1\n",
    "- 'Personal de Enfermeria':2\n",
    "- 'Paramedico':3\n",
    "- 'Comadrona':4\n",
    "- 'Empirico':5\n",
    "- 'Ninguno':6\n",
    "- 'Ignorado':7\n",
    "\n",
    "Sitio ocurrencia\n",
    "- 'Hospital público':1\n",
    "- 'Hospital privado':2\n",
    "- 'Centro de salud':3\n",
    "- 'Seguro social':4\n",
    "- 'Vìa pública':5\n",
    "- 'Domicilio':6\n",
    "- 'Otro':7\n",
    "- 'Ignorado':8"
   ]
  },
  {
   "cell_type": "code",
   "execution_count": null,
   "metadata": {},
   "outputs": [],
   "source": [
    "data['Asisrec'] = data['Asisrec'].replace({\n",
    "'Medico':1,\n",
    "'Medica':1,\n",
    "'Médica':1,\n",
    "'Personal de Enfermeria':2,\n",
    "'Paramedico':3,\n",
    "'Paramédica':3,\n",
    "'Comadrona':4,\n",
    "'Empirico':5,\n",
    "'Empirica':5,\n",
    "'Empírica':5,\n",
    "'Ninguno':6,\n",
    "'Ninguna':6,\n",
    "'Ignorado':7\n",
    "})\n",
    "\n",
    "data['Sitioocu'] = data['Sitioocu'].replace({\n",
    "'Hospital público':1,\n",
    "'Hospital':1,\n",
    "'Hospital privado':2,\n",
    "'Centro de salud':3,\n",
    "'Casa de salud':3,\n",
    "'Seguro social':4,\n",
    "'Vìa pública':5,\n",
    "'Via pública':5,\n",
    "'Via publica':5,\n",
    "'Vía Pública':5,\n",
    "'Domicilio':6,\n",
    "'Otro':7,\n",
    "'Ignorado':8\n",
    "\n",
    "})"
   ]
  },
  {
   "cell_type": "code",
   "execution_count": null,
   "metadata": {},
   "outputs": [],
   "source": [
    "data['Sitioocu'].unique()"
   ]
  },
  {
   "cell_type": "code",
   "execution_count": null,
   "metadata": {},
   "outputs": [],
   "source": [
    "data['Asisrec'].unique()"
   ]
  },
  {
   "cell_type": "code",
   "execution_count": null,
   "metadata": {},
   "outputs": [],
   "source": [
    "data.dtypes"
   ]
  },
  {
   "cell_type": "code",
   "execution_count": null,
   "metadata": {},
   "outputs": [],
   "source": [
    "TESTLIMIT = 1000\n",
    "data_model = data.sample(TESTLIMIT)\n",
    "X = data_model[['Depreg',\t'Sitioocu',\t'Year',\t'Escolap', 'Escolam']].values\n",
    "y = data_model.iloc[:, 1].values\n",
    "X_entreno, X_prueba, y_entreno, y_prueba = train_test_split(X, y, test_size = 0.20, random_state = 0)"
   ]
  },
  {
   "cell_type": "code",
   "execution_count": null,
   "metadata": {},
   "outputs": [],
   "source": [
    "# Agrupar los datos por 'Year' y 'Asisrec' y contar la frecuencia de cada combinación\n",
    "grouped_data = data_model.groupby(['Year', 'Asisrec']).size().reset_index(name='Count')\n",
    "\n",
    "# Ordenar los datos por 'Year'\n",
    "grouped_data = grouped_data.sort_values(by='Year')\n",
    "\n",
    "# Graficar los resultados utilizando un gráfico de línea o de barras\n",
    "plt.figure(figsize=(10, 10))\n",
    "sns.lineplot(x='Year', y='Count', hue='Asisrec', data=grouped_data)\n",
    "# O bien, utilizar un gráfico de barras agrupado\n",
    "sns.barplot(x='Year', y='Count', hue='Asisrec', data=grouped_data, ci=None)\n",
    "plt.xlabel('Año')\n",
    "plt.ylabel('Frecuencia')\n",
    "plt.title('Frecuencia de Asistencia a lo largo de los años')\n",
    "plt.show()"
   ]
  },
  {
   "cell_type": "code",
   "execution_count": null,
   "metadata": {},
   "outputs": [],
   "source": [
    "import warnings\n",
    "warnings.filterwarnings('ignore')\n",
    "\n",
    "model = SVC(kernel = 'linear', random_state = 0)\n",
    "model.fit(X_entreno, y_entreno)\n",
    "\n",
    "y_pred = model.predict(X_prueba)\n",
    "\n",
    "np.concatenate((y_pred.reshape(len(y_pred),1), y_pred.reshape(len(y_pred),1)),1)\n",
    "from sklearn.metrics import confusion_matrix, classification_report\n",
    "print(classification_report(y_prueba, y_pred))\n",
    "\n",
    "cm = confusion_matrix(y_prueba, y_pred)\n",
    "sns.heatmap(cm, annot=True, fmt='d', cmap='Blues')\n",
    "plt.xlabel('Predicción')\n",
    "plt.ylabel('Valor Real')\n",
    "plt.title('Matriz de Confusión')\n",
    "plt.show()"
   ]
  },
  {
   "cell_type": "code",
   "execution_count": null,
   "metadata": {},
   "outputs": [],
   "source": [
    "x = data.filter([\"Sitioocu\", \"Asisrec\"]) # TODO cambiar a variables a utilizar\n",
    "\n",
    "kmeans = KMeans(3)\n",
    "kmeans.fit(x)\n",
    "\n",
    "clusters_identificados = kmeans.fit_predict(x)\n",
    "\n",
    "# Revisar los resultados\n",
    "\n",
    "clusters_identificados\n",
    "\n",
    "datos_con_clusters = data.copy()\n",
    "\n",
    "# Crear una nueva serie, que tenga el cluster identificado para cada observación\n",
    "\n",
    "datos_con_clusters['Cluster'] = clusters_identificados\n",
    "\n",
    "# Revisar el resultado\n",
    "\n",
    "datos_con_clusters\n",
    "\n",
    "datos_con_clusters[\"Cluster\"] = datos_con_clusters[\"Cluster\"].astype(\"category\")\n",
    "\n",
    "fig = px.scatter(\n",
    "    datos_con_clusters, \n",
    "    x = \"Sitioocu\", \n",
    "    y = \"Asisrec\", \n",
    "    color = \"Cluster\",\n",
    "#    size = '', \n",
    "    hover_data = ['Depreg']\n",
    ")\n",
    "fig.update_xaxes(range=[-180, 180])\n",
    "fig.update_yaxes(range=[-90, 90])\n",
    "\n",
    "fig.show()"
   ]
  },
  {
   "attachments": {},
   "cell_type": "markdown",
   "metadata": {},
   "source": [
    "Ya con nuestro dataset codificado podemos proseguir"
   ]
  }
 ],
 "metadata": {
  "kernelspec": {
   "display_name": "Python 3",
   "language": "python",
   "name": "python3"
  },
  "language_info": {
   "codemirror_mode": {
    "name": "ipython",
    "version": 3
   },
   "file_extension": ".py",
   "mimetype": "text/x-python",
   "name": "python",
   "nbconvert_exporter": "python",
   "pygments_lexer": "ipython3",
   "version": "3.10.5"
  },
  "orig_nbformat": 4
 },
 "nbformat": 4,
 "nbformat_minor": 2
}
